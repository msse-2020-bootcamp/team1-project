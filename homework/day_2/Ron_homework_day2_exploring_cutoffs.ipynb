{
 "cells": [
  {
   "cell_type": "markdown",
   "metadata": {},
   "source": [
    "# Ron Day 2 Homework - Group Coding Challenge\n",
    "Exploring the LJ Potential and Cutoffs"
   ]
  },
  {
   "cell_type": "code",
   "execution_count": null,
   "metadata": {},
   "outputs": [],
   "source": [
    "import math"
   ]
  },
  {
   "cell_type": "code",
   "execution_count": null,
   "metadata": {},
   "outputs": [],
   "source": [
    "def calculate_LJ(r_ij): \n",
    "    \"\"\"\n",
    "    The LJ interaction energy between two particles.\n",
    "    \n",
    "    Computes the pairwise Lennard jones interaction energy based on the separation distance in reduced units.\n",
    "    \n",
    "    Parameters\n",
    "    ----------\n",
    "    r_ij : float\n",
    "        The distance between the particles in reduced units.\n",
    "        \n",
    "    Returns\n",
    "    -------\n",
    "    pairwise_energy : float\n",
    "        The pairwise Lennard Jones interaction energy in reduced units.\n",
    "    \n",
    "    \"\"\"\n",
    "    \n",
    "    r6_term = math.pow(1/r_ij, 6)\n",
    "    r12_term = math.pow(r6_term, 2)\n",
    "    \n",
    "    pairwise_energy = 4 * (r12_term - r6_term)\n",
    "    \n",
    "    return pairwise_energy"
   ]
  },
  {
   "cell_type": "code",
   "execution_count": null,
   "metadata": {},
   "outputs": [],
   "source": [
    "import matplotlib.pyplot as plt\n",
    "\n",
    "%matplotlib notebook"
   ]
  },
  {
   "cell_type": "code",
   "execution_count": null,
   "metadata": {},
   "outputs": [],
   "source": [
    "fig = plt.figure ()\n",
    "ax = fig.add_subplot(111)\n",
    "plt.ylim(-2,50)\n",
    "fig.show()"
   ]
  },
  {
   "cell_type": "code",
   "execution_count": null,
   "metadata": {},
   "outputs": [],
   "source": [
    "for i in range(1, 51):\n",
    "    r = i * 0.1\n",
    "    LJ_energy = calculate_LJ(r)\n",
    "    ax.plot(r,LJ_energy, 'ob')\n",
    "    #print(f'{r} \\t  {LJ_energy}')"
   ]
  },
  {
   "cell_type": "markdown",
   "metadata": {},
   "source": [
    "## Is 3sigma a good cutoff value or not?\n",
    "If we plug a distance of 3sigma into the Lennard Jones equation, the terms reduce to 4E[(1/3)^12 - (1/3)^6] = -0.0055* Epsilon. Since Epsilon in SI units is typically a tiny smaller decimal number, that product works out to be a miniscule value, on an order of magnitude essentially equivalent to 0. Therefore, I agree that a cutoff of 3sigma should be satisfactory.\n"
   ]
  },
  {
   "cell_type": "code",
   "execution_count": null,
   "metadata": {},
   "outputs": [],
   "source": [
    "def calculate_distance(coord1, coord2):\n",
    "    \"\"\"\n",
    "    Calculate the distance between two 3D coordinates.\n",
    "    \n",
    "    Parameters\n",
    "    ----------\n",
    "    coord1, coord2 : list\n",
    "        The atomic coordinates [x, y, z]\n",
    "        \n",
    "    Returns\n",
    "    -------\n",
    "    distance: float\n",
    "        The distance between the two atoms\n",
    "    \n",
    "    \"\"\"\n",
    "    sum_square_diff = 0\n",
    "    \n",
    "    for i in range(len(coord1)):\n",
    "        sum_square_diff += (coord1[i] - coord2[i])**2\n",
    "        \n",
    "    distance = math.sqrt(sum_square_diff)\n",
    "    \n",
    "    return distance"
   ]
  },
  {
   "cell_type": "code",
   "execution_count": null,
   "metadata": {},
   "outputs": [],
   "source": [
    "def calculate_total_pair_energy(coordinates, cutoff):\n",
    "    \"\"\"\n",
    "    Calculate the total Lennard Jonest energy of a system of particles.\n",
    "    \n",
    "    Parameters\n",
    "    ----------\n",
    "    coordinates : list\n",
    "        Nested list containing particle coordinates.\n",
    "        \n",
    "    Returns\n",
    "    -------\n",
    "    total_energy : float\n",
    "        The total pairwise Lennard jonest energy of the system of particles.\n",
    "    \"\"\"\n",
    "    \n",
    "    total_energy = 0\n",
    "    num_atoms = len(coordinates)\n",
    "\n",
    "    for i in range(num_atoms):\n",
    "        for j in range(i+1, num_atoms):\n",
    "            # Calculate the distance between the particles - exercise.\n",
    "            dist_ij = calculate_distance(coordinates[i], coordinates[j])\n",
    "\n",
    "            if dist_ij < cutoff:\n",
    "                # Calculate the pairwise LJ energy\n",
    "                LJ_ij = calculate_LJ(dist_ij)\n",
    "\n",
    "                # Add to total energy.\n",
    "                total_energy += LJ_ij\n",
    "    return total_energy"
   ]
  },
  {
   "cell_type": "code",
   "execution_count": null,
   "metadata": {},
   "outputs": [],
   "source": [
    "def read_xyz(filepath):\n",
    "    \"\"\"\n",
    "    Reads coordinates from an xyz file.\n",
    "    \n",
    "    Parameters\n",
    "    ----------\n",
    "    filepath : str\n",
    "       The path to the xyz file to be processed.\n",
    "       \n",
    "    Returns\n",
    "    -------\n",
    "    atomic_coordinates : list\n",
    "        A two dimensional list containing atomic coordinates\n",
    "    \"\"\"\n",
    "    \n",
    "    with open(filepath) as f:\n",
    "        box_length = float(f.readline().split()[0])\n",
    "        num_atoms = float(f.readline())\n",
    "        coordinates = f.readlines()\n",
    "    \n",
    "    atomic_coordinates = []\n",
    "    \n",
    "    for atom in coordinates:\n",
    "        split_atoms = atom.split()\n",
    "        \n",
    "        float_coords = []\n",
    "        \n",
    "        # We split this way to get rid of the atom label.\n",
    "        for coord in split_atoms[1:]:\n",
    "            float_coords.append(float(coord))\n",
    "            \n",
    "        atomic_coordinates.append(float_coords)\n",
    "        \n",
    "    \n",
    "    return atomic_coordinates, box_length"
   ]
  },
  {
   "cell_type": "code",
   "execution_count": null,
   "metadata": {},
   "outputs": [],
   "source": [
    "import os"
   ]
  },
  {
   "cell_type": "code",
   "execution_count": null,
   "metadata": {},
   "outputs": [],
   "source": [
    "%cd ../.."
   ]
  },
  {
   "cell_type": "code",
   "execution_count": null,
   "metadata": {},
   "outputs": [],
   "source": [
    "file_path = os.path.join('lj_sample_configurations', 'lj_sample_config_periodic1.txt')\n",
    "\n",
    "coordinates, box_length = read_xyz(file_path)"
   ]
  },
  {
   "cell_type": "code",
   "execution_count": null,
   "metadata": {},
   "outputs": [],
   "source": [
    "%time calculate_total_pair_energy(coordinates, 1)"
   ]
  },
  {
   "cell_type": "code",
   "execution_count": null,
   "metadata": {
    "scrolled": true
   },
   "outputs": [],
   "source": [
    "%time calculate_total_pair_energy(coordinates, 2)"
   ]
  },
  {
   "cell_type": "code",
   "execution_count": null,
   "metadata": {
    "scrolled": true
   },
   "outputs": [],
   "source": [
    "%time calculate_total_pair_energy(coordinates, 3)"
   ]
  }
 ],
 "metadata": {
  "kernelspec": {
   "display_name": "Python 3",
   "language": "python",
   "name": "python3"
  },
  "language_info": {
   "codemirror_mode": {
    "name": "ipython",
    "version": 3
   },
   "file_extension": ".py",
   "mimetype": "text/x-python",
   "name": "python",
   "nbconvert_exporter": "python",
   "pygments_lexer": "ipython3",
   "version": "3.7.7"
  }
 },
 "nbformat": 4,
 "nbformat_minor": 4
}
