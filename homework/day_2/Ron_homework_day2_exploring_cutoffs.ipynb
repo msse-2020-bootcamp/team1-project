{
 "cells": [
  {
   "cell_type": "markdown",
   "metadata": {},
   "source": [
    "# Ron Day 2 Homework - Group Coding Challenge\n",
    "Exploring the LJ Potential and Cutoffs"
   ]
  },
  {
   "cell_type": "code",
   "execution_count": null,
   "metadata": {},
   "outputs": [],
   "source": [
    "import math"
   ]
  },
  {
   "cell_type": "code",
   "execution_count": null,
   "metadata": {},
   "outputs": [],
   "source": [
    "def calculate_LJ(r_ij): \n",
    "    \"\"\"\n",
    "    The LJ interaction energy between two particles.\n",
    "    \n",
    "    Computes the pairwise Lennard jones interaction energy based on the separation distance in reduced units.\n",
    "    \n",
    "    Parameters\n",
    "    ----------\n",
    "    r_ij : float\n",
    "        The distance between the particles in reduced units.\n",
    "        \n",
    "    Returns\n",
    "    -------\n",
    "    pairwise_energy : float\n",
    "        The pairwise Lennard Jones interaction energy in reduced units.\n",
    "    \n",
    "    \"\"\"\n",
    "    \n",
    "    r6_term = math.pow(1/r_ij, 6)\n",
    "    r12_term = math.pow(r6_term, 2)\n",
    "    \n",
    "    pairwise_energy = 4 * (r12_term - r6_term)\n",
    "    \n",
    "    return pairwise_energy"
   ]
  },
  {
   "cell_type": "code",
   "execution_count": null,
   "metadata": {},
   "outputs": [],
   "source": [
    "import matplotlib.pyplot as plt\n",
    "\n",
    "%matplotlib notebook"
   ]
  },
  {
   "cell_type": "code",
   "execution_count": null,
   "metadata": {},
   "outputs": [],
   "source": [
    "fig = plt.figure ()\n",
    "ax = fig.add_subplot(111)\n",
    "plt.ylim(-2,50)\n",
    "fig.show()"
   ]
  },
  {
   "cell_type": "code",
   "execution_count": null,
   "metadata": {},
   "outputs": [],
   "source": [
    "for i in range(1, 51):\n",
    "    r = i * 0.1\n",
    "    LJ_energy = calculate_LJ(r)\n",
    "    ax.plot(r,LJ_energy, 'ob')\n",
    "    #print(f'{r} \\t  {LJ_energy}')"
   ]
  },
  {
   "cell_type": "markdown",
   "metadata": {},
   "source": [
    "## Is 3sigma a good cutoff value or not?\n",
    "If we plug a distance of 3sigma into the Lennard Jones equation, the terms reduce to 4E[(1/3)^12 - (1/3)^6] = -0.0055* Epsilon. Since Epsilon in SI units is typically a tiny smaller decimal number, that product works out to be a miniscule value, on an order of magnitude essentially equivalent to 0. Therefore, I agree that a cutoff of 3sigma should be satisfactory.\n"
   ]
  },
  {
   "cell_type": "code",
   "execution_count": null,
   "metadata": {},
   "outputs": [],
   "source": [
    "def calculate_distance(coord1, coord2, box_length=None):\n",
    "    \"\"\"\n",
    "    Calculate the distance between two 3D coordinates.\n",
    "    \n",
    "    Parameters\n",
    "    ----------\n",
    "    coord1, coord2 : list\n",
    "        The atomic coordinates [x, y, z]\n",
    "        \n",
    "    box_length : float, optional\n",
    "        The box length. This function assumes box is a cube.\n",
    "        \n",
    "    Returns\n",
    "    -------\n",
    "    distance: float\n",
    "        The distance between the two atoms\n",
    "    \n",
    "    \"\"\"\n",
    "    #Do periodic boundary corrections if given a box_length\n",
    "    if box_length is not None:\n",
    "        #Distance = sqrt(sum of square differences of each dimension)\n",
    "        #initialize the sum of square differences to 0\n",
    "        sum_square_diff = 0\n",
    "        \n",
    "        #Iterate through dimensions\n",
    "        for i in range(len(coord1)):\n",
    "            \n",
    "            #Find the raw distance between the two coordinates in this dimension\n",
    "            dim_dist_uncorrected = math.fabs(coord1[i] - coord2[i])\n",
    "            \n",
    "            #Periodic boundary corrections\n",
    "            #If raw distance is less than half the box_length, no corrections are needed\n",
    "            if dim_dist_uncorrected <= box_length / 2:\n",
    "                dim_dist_corrected = dim_dist_uncorrected\n",
    "            \n",
    "            #If raw distance is greater than half the box length and less than one whole box length, correct accordingly\n",
    "            elif (dim_dist_uncorrected > box_length / 2 and dim_dist_uncorrected <= box_length):\n",
    "                dim_dist_corrected = box_length - dim_dist_uncorrected\n",
    "            \n",
    "            #If raw distance is greater than one whole box length, correct accordingly\n",
    "            else:\n",
    "                dim_dist_corrected = dim_dist_uncorrected - box_length * round(dim_dist_uncorrected / box_length)\n",
    "            \n",
    "            #Add the square difference to the total sum\n",
    "            sum_square_diff += (dim_dist_corrected)**2\n",
    "        \n",
    "        #Calculate distance after finding the sum of square differences\n",
    "        distance = math.sqrt(sum_square_diff)\n",
    "        \n",
    "    #Otherwise assume no periodic boundaries    \n",
    "    else:\n",
    "        sum_square_diff = 0\n",
    "    \n",
    "        for i in range(len(coord1)):\n",
    "            sum_square_diff += (coord1[i] - coord2[i])**2\n",
    "\n",
    "        distance = math.sqrt(sum_square_diff)\n",
    "\n",
    "    return distance"
   ]
  },
  {
   "cell_type": "code",
   "execution_count": null,
   "metadata": {},
   "outputs": [],
   "source": [
    "#Defining a function for the tail correction\n",
    "\n",
    "def calculate_tail_correction(particles, box, r_cutoff):\n",
    "    \"\"\"\n",
    "    This function calculates the tail correction\n",
    "    \n",
    "    Parameters\n",
    "    ----------\n",
    "    particles : int\n",
    "        The number of particles in the sample\n",
    "        \n",
    "    volume : float\n",
    "        The volume of the sample\n",
    "        \n",
    "    r_cutoff : float\n",
    "        The cutoff radius\n",
    "    \n",
    "    Returns\n",
    "    -------\n",
    "    tail_correction_factor: float\n",
    "            The tail correction factor in reduced units\n",
    "    \n",
    "    \"\"\"\n",
    "    r3_term = math.pow(1/r_cutoff, 3)\n",
    "    r9_term = math.pow(r3_term, 3)\n",
    "    \n",
    "    tail_correction_factor = ((8* math.pi * (particles ** 2)) / (3 * volume) ) * (((1/3) * (r9_term)) - r3_term)\n",
    "    \n",
    "    return tail_correction_factor"
   ]
  },
  {
   "cell_type": "code",
   "execution_count": null,
   "metadata": {},
   "outputs": [],
   "source": [
    "def calculate_total_pair_energy(coordinates, box_length, cutoff):\n",
    "    \"\"\"\n",
    "    Calculate the total Lennard Jonest energy of a system of particles.\n",
    "    \n",
    "    Parameters\n",
    "    ----------\n",
    "    coordinates : list\n",
    "        Nested list containing particle coordinates.\n",
    "        \n",
    "    Returns\n",
    "    -------\n",
    "    total_energy : float\n",
    "        The total pairwise Lennard jonest energy of the system of particles.\n",
    "    \"\"\"\n",
    "    \n",
    "    total_energy = 0\n",
    "    num_atoms = len(coordinates)\n",
    "\n",
    "    for i in range(num_atoms):\n",
    "        for j in range(i+1, num_atoms):\n",
    "            # Calculate the distance between the particles - exercise.\n",
    "            dist_ij = calculate_distance(coordinates[i], coordinates[j], box_length)\n",
    "\n",
    "            if dist_ij < cutoff:\n",
    "                # Calculate the pairwise LJ energy\n",
    "                LJ_ij = calculate_LJ(dist_ij)\n",
    "\n",
    "                # Add to total energy.\n",
    "                total_energy += LJ_ij\n",
    "    return total_energy"
   ]
  },
  {
   "cell_type": "code",
   "execution_count": null,
   "metadata": {},
   "outputs": [],
   "source": [
    "def read_xyz(filepath):\n",
    "    \"\"\"\n",
    "    Reads coordinates from an xyz file.\n",
    "    \n",
    "    Parameters\n",
    "    ----------\n",
    "    filepath : str\n",
    "       The path to the xyz file to be processed.\n",
    "       \n",
    "    Returns\n",
    "    -------\n",
    "    atomic_coordinates : list\n",
    "        A two dimensional list containing atomic coordinates\n",
    "    \"\"\"\n",
    "    \n",
    "    with open(filepath) as f:\n",
    "        box_length = float(f.readline().split()[0])\n",
    "        num_atoms = float(f.readline())\n",
    "        coordinates = f.readlines()\n",
    "    \n",
    "    atomic_coordinates = []\n",
    "    \n",
    "    for atom in coordinates:\n",
    "        split_atoms = atom.split()\n",
    "        \n",
    "        float_coords = []\n",
    "        \n",
    "        # We split this way to get rid of the atom label.\n",
    "        for coord in split_atoms[1:]:\n",
    "            float_coords.append(float(coord))\n",
    "            \n",
    "        atomic_coordinates.append(float_coords)\n",
    "        \n",
    "    \n",
    "    return atomic_coordinates, box_length"
   ]
  },
  {
   "cell_type": "code",
   "execution_count": null,
   "metadata": {},
   "outputs": [],
   "source": [
    "import os"
   ]
  },
  {
   "cell_type": "code",
   "execution_count": null,
   "metadata": {},
   "outputs": [],
   "source": [
    "%cd ../.."
   ]
  },
  {
   "cell_type": "code",
   "execution_count": null,
   "metadata": {},
   "outputs": [],
   "source": [
    "file_path = os.path.join('lj_sample_configurations', 'lj_sample_config_periodic1.txt')\n",
    "\n",
    "coordinates, box_length = read_xyz(file_path)"
   ]
  },
  {
   "cell_type": "code",
   "execution_count": null,
   "metadata": {},
   "outputs": [],
   "source": [
    "%time calculate_total_pair_energy(coordinates, 1)"
   ]
  },
  {
   "cell_type": "code",
   "execution_count": null,
   "metadata": {
    "scrolled": true
   },
   "outputs": [],
   "source": [
    "%time calculate_total_pair_energy(coordinates, 2)"
   ]
  },
  {
   "cell_type": "code",
   "execution_count": null,
   "metadata": {
    "scrolled": true
   },
   "outputs": [],
   "source": [
    "calculate_total_pair_energy(coordinates, 10, 3)"
   ]
  },
  {
   "cell_type": "markdown",
   "metadata": {},
   "source": [
    "## Flow of Calculations\n",
    "1. generate initial system state m\n",
    "1. choose an atom with uniform probability from stat m\n",
    "1. propose a new state n by translating the particle with a uniform random displacement in each direction\n",
    "1. calculate the energy change for the particle\n",
    "1. accept the reject new state\n"
   ]
  },
  {
   "cell_type": "code",
   "execution_count": null,
   "metadata": {},
   "outputs": [],
   "source": [
    "def accept_or_reject(delta_e, beta):\n",
    "    \"\"\"\n",
    "    Accept or reject based on change in energy and temperature.\n",
    "    \"\"\"\n",
    "    \n",
    "    if delta_e <= 0:\n",
    "        accept = True\n",
    "    else:\n",
    "        random_number = random.random()\n",
    "        p_acc = math.exp(-beta*delta_e)\n",
    "        \n",
    "        if random_number < p_acc:\n",
    "            accept = True\n",
    "        else:\n",
    "            accept = False\n",
    "    \n",
    "    return accept"
   ]
  },
  {
   "cell_type": "code",
   "execution_count": null,
   "metadata": {},
   "outputs": [],
   "source": [
    "delta_energy = -1\n",
    "beta = 1\n",
    "assert accept_or_reject(delta_energy, beta) is True"
   ]
  },
  {
   "cell_type": "code",
   "execution_count": null,
   "metadata": {},
   "outputs": [],
   "source": [
    "delta_energy = 0\n",
    "beta = 1\n",
    "assert accept_or_reject(delta_energy, beta) is True"
   ]
  },
  {
   "cell_type": "code",
   "execution_count": null,
   "metadata": {},
   "outputs": [],
   "source": [
    "import random\n",
    "\n",
    "random.seed(0)\n",
    "random.random()"
   ]
  },
  {
   "cell_type": "code",
   "execution_count": null,
   "metadata": {},
   "outputs": [],
   "source": [
    "random.seed(0)\n",
    "delta_energy = 1\n",
    "beta = 1\n",
    "assert accept_or_reject(delta_energy, beta) is False"
   ]
  },
  {
   "cell_type": "code",
   "execution_count": null,
   "metadata": {},
   "outputs": [],
   "source": [
    "random.seed(1)\n",
    "random.random()\n"
   ]
  },
  {
   "cell_type": "code",
   "execution_count": null,
   "metadata": {},
   "outputs": [],
   "source": [
    "random.seed(1)\n",
    "delta_energy = 1\n",
    "beta = 1\n",
    "assert accept_or_reject(delta_energy, beta) is True"
   ]
  },
  {
   "cell_type": "code",
   "execution_count": null,
   "metadata": {},
   "outputs": [],
   "source": [
    "# Unset random seed\n",
    "random.seed()"
   ]
  },
  {
   "cell_type": "code",
   "execution_count": null,
   "metadata": {},
   "outputs": [],
   "source": [
    "def calculate_pair_energy(coordinates, i_particle, box_length, cutoff):\n",
    "    \"\"\"\n",
    "    Calculate the interaction energy of a particle with its environment (all other particles in the system).\n",
    "    \n",
    "    Parameters\n",
    "    ----------\n",
    "    coordinates : list\n",
    "        the coordinates for all the particles in the system\n",
    "        \n",
    "    i_particle : integer\n",
    "        The particle index for which to calculate the energy.\n",
    "        \n",
    "    box_length : float\n",
    "        THe length of the simulation box.\n",
    "    \n",
    "    cutoff : float\n",
    "        The cutoff distance for our simulation. Beyond this distance, interactions are not calculated.\n",
    "        \n",
    "    Returns\n",
    "    -------\n",
    "    e_total : float\n",
    "        The pairwise interaction energy of the i-th particle with all other particles in the system.\n",
    "    \"\"\"\n",
    "    \n",
    "    e_total = 0\n",
    "    \n",
    "    i_position = coordinates[i_particle]\n",
    "    \n",
    "    num_atoms = len(coordinates)\n",
    "    \n",
    "    for j_particle in range(num_atoms):\n",
    "        if i_particle != j_particle:\n",
    "            j_position = coordinates[j_particle]\n",
    "            rij = calculate_distance(i_position, j_position)\n",
    "\n",
    "            if rij < cutoff:\n",
    "                #print(rij, i_particle, j_particle, j_position)\n",
    "                e_pair = calculate_LJ(rij)\n",
    "                e_total += e_pair\n",
    "\n",
    "    \n",
    "    return e_total"
   ]
  },
  {
   "cell_type": "code",
   "execution_count": null,
   "metadata": {},
   "outputs": [],
   "source": [
    "coordinates = [[0,0,0], [0,0,2**(1/6)], [0,0,2*(2**(1/6))]]\n",
    "#calculate_pair_energy(coordinates, 1, 10, 3)\n",
    "assert calculate_pair_energy(coordinates, 1, 10, 3) == -2\n",
    "\n",
    "assert c"
   ]
  },
  {
   "cell_type": "code",
   "execution_count": null,
   "metadata": {},
   "outputs": [],
   "source": [
    "cd msse-bootcamp/"
   ]
  },
  {
   "cell_type": "markdown",
   "metadata": {},
   "source": [
    "## Day 3 Class Work - Simulation Loop"
   ]
  },
  {
   "cell_type": "code",
   "execution_count": null,
   "metadata": {},
   "outputs": [],
   "source": [
    "calculate_tail_correction(800, 10, 3)"
   ]
  },
  {
   "cell_type": "code",
   "execution_count": null,
   "metadata": {},
   "outputs": [],
   "source": [
    "import os\n",
    "\n",
    "# Set simulation arameters\n",
    "reduced_temperature = 1.5\n",
    "num_steps = 10000\n",
    "max_displacement = 0.1\n",
    "cutoff = 3\n",
    "\n",
    "# Reporting information\n",
    "freq = 1000\n",
    "steps = []\n",
    "energies = []\n",
    "all_coordinates = []\n",
    "\n",
    "# Calculated quantities\n",
    "beta = 1/reduced_temperature\n",
    "\n",
    "# Read initial coordinates\n",
    "file_path = os.path.join('lj_sample_configurations', 'lj_sample_config_periodic1.txt')\n",
    "coordinates, box_length = read_xyz(file_path)\n",
    "num_particles = len(coordinates)\n",
    "print(num_particles)\n",
    "# Calculated based on simulation inputs\n",
    "total_energy = calculate_total_pair_energy(coordinates, box_length, cutoff)\n",
    "print(total_energy)\n",
    "total_energy += calculate_tail_correction(num_particles, box_length**3, cutoff)\n",
    "print(total_energy)\n",
    "for step in range(num_steps):\n",
    "    \n",
    "    # 1. Randomly pick 1 of num_particles particles.\n",
    "    random_particle = random.randrange(num_particles)\n",
    "    \n",
    "    # 2. Calculate the interaction energy of the selected particle with the system. Store this value.\n",
    "    current_energy = calculate_pair_energy(coordinates, random_particle, box_length, cutoff)\n",
    "    \n",
    "    # 3. Generate a random x, y, z displacement range (-max_displacement, max_displacement) - uniform distribution\n",
    "    x_rand = random.uniform(-max_displacement, max_displacement)\n",
    "    y_rand = random.uniform(-max_displacement, max_displacement)\n",
    "    z_rand = random.uniform(-max_displacement, max_displacement)\n",
    "    \n",
    "    # 4.Modify the coordinate of selected particle by displacements.\n",
    "    coordinates[random_particle][0] += x_rand\n",
    "    coordinates[random_particle][1] += y_rand\n",
    "    coordinates[random_particle][2] += z_rand\n",
    "    # 5. Calclulate the new interaction energy of the new particle, store this value.\n",
    "    proposed_energy = calculate_pair_energy(coordinates, random_particle, box_length, cutoff)\n",
    "    \n",
    "    # 6. Calculate energy change and decide if we accept the move.\n",
    "    delta_energy = proposed_energy - current_energy\n",
    "    \n",
    "    accept = accept_or_reject(delta_energy, beta)\n",
    "    \n",
    "    # 7. If we accept, keep movement. If not, revert to old position.\n",
    "    if accept:\n",
    "        total_energy += delta_energy\n",
    "    else:\n",
    "        # Move is not accepted, roll back coordinates\n",
    "        coordinates[random_particle][0] -= x_rand\n",
    "        coordinates[random_particle][1] -= y_rand\n",
    "        coordinates[random_particle][2] -= z_rand\n",
    "    \n",
    "    # 8. Print the energy and store the coordinates at certain intervals.\n",
    "    if step % freq == 0:\n",
    "        print(step, total_energy/num_particles)\n",
    "        steps.append(step)\n",
    "        energies.append(total_energy/num_particles)\n",
    "        all_coordinates.append(coordinates)\n",
    "    \n"
   ]
  },
  {
   "cell_type": "code",
   "execution_count": null,
   "metadata": {},
   "outputs": [],
   "source": [
    "energies"
   ]
  },
  {
   "cell_type": "code",
   "execution_count": null,
   "metadata": {},
   "outputs": [],
   "source": [
    "import matplotlib.pyplot as plt\n",
    "\n",
    "%matplotlib notebook\n",
    "\n",
    "fig  = plt.figure()\n",
    "ax = fig.add_subplot(111)\n",
    "ax = (delta_e, energies)"
   ]
  }
 ],
 "metadata": {
  "kernelspec": {
   "display_name": "Python 3",
   "language": "python",
   "name": "python3"
  },
  "language_info": {
   "codemirror_mode": {
    "name": "ipython",
    "version": 3
   },
   "file_extension": ".py",
   "mimetype": "text/x-python",
   "name": "python",
   "nbconvert_exporter": "python",
   "pygments_lexer": "ipython3",
   "version": "3.7.7"
  }
 },
 "nbformat": 4,
 "nbformat_minor": 4
}
