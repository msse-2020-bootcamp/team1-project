{
 "cells": [
  {
   "cell_type": "markdown",
   "metadata": {},
   "source": [
    "# Monte Carlo Simulation \n",
    "\n",
    "Today, we will work with the Lennard Jones equation. \n",
    "\n",
    "$$ U(r) = 4 \\epsilon \\left[\\left(\\frac{\\sigma}{r}\\right)^{12} -\\left(\\frac{\\sigma}{r}\\right)^{6} \\right] $$\n",
    "\n",
    "Reduced Units:\n",
    "\n",
    "$$ U^*\\left(r_{ij} \\right) = 4 \\left[\\left(\\frac{1}{r^*_{ij}}\\right)^{12} -\\left(\\frac{1}{r^*_{ij}}\\right)^{6} \\right] $$\n"
   ]
  },
  {
   "cell_type": "code",
   "execution_count": null,
   "metadata": {},
   "outputs": [],
   "source": [
    "import math\n",
    "import os\n",
    "\n",
    "def calculate_LJ(r_ij): \n",
    "    \"\"\"\n",
    "    The LJ interaction energy between two particles.\n",
    "    \n",
    "    Computes the pairwise Lennard jones interaction energy based on the separation distance in reduced units.\n",
    "    \n",
    "    Parameters\n",
    "    ----------\n",
    "    r_ij : float\n",
    "        The distance between the particles in reduced units.\n",
    "        \n",
    "    Returns\n",
    "    -------\n",
    "    pairwise_energy : float\n",
    "        The pairwise Lennard Jones interaction energy in reduced units.\n",
    "    \n",
    "    \"\"\"\n",
    "    r6_term = math.pow(1/r_ij, 6)\n",
    "    r12_term = math.pow(r6_term, 2)\n",
    "    \n",
    "    pairwise_energy = 4 * (r12_term - r6_term)\n",
    "    \n",
    "    return pairwise_energy\n"
   ]
  },
  {
   "cell_type": "code",
   "execution_count": null,
   "metadata": {},
   "outputs": [],
   "source": [
    "#Defining a function for the tail correction\n",
    "\n",
    "def calculate_tail_correction(particles, volume, r_cutoff):\n",
    "    \"\"\"\n",
    "    This function calculates the tail correction\n",
    "    \n",
    "    Parameters\n",
    "    ----------\n",
    "    particles : int\n",
    "        The number of particles in the sample\n",
    "        \n",
    "    volume : float\n",
    "        The volume of the sample\n",
    "        \n",
    "    r_cutoff : float\n",
    "        The cutoff radius\n",
    "    \n",
    "    Returns\n",
    "    -------\n",
    "    tail_correction_factor: float\n",
    "            The tail correction factor in reduced units\n",
    "    \n",
    "    \"\"\"\n",
    "    r3_term = math.pow(1/r_cutoff, 3)\n",
    "    r9_term = math.pow(r3_term, 3)\n",
    "    \n",
    "    tail_correction_factor = ((8* math.pi * (particles ** 2)) / (3 * volume) ) * (((1/3) * (r9_term)) - r3_term)\n",
    "    \n",
    "    return tail_correction_factor\n",
    "\n",
    "\n"
   ]
  },
  {
   "cell_type": "code",
   "execution_count": null,
   "metadata": {},
   "outputs": [],
   "source": [
    "tail_correction_factor = calculate_tail_correction(800, 10**3, 3)"
   ]
  },
  {
   "cell_type": "code",
   "execution_count": null,
   "metadata": {},
   "outputs": [],
   "source": [
    "assert math.isclose(tail_correction_factor, -1.9849E+02, rel_tol=0.00001)\n"
   ]
  },
  {
   "cell_type": "code",
   "execution_count": null,
   "metadata": {},
   "outputs": [],
   "source": [
    "calculate_LJ(1)"
   ]
  },
  {
   "cell_type": "code",
   "execution_count": null,
   "metadata": {},
   "outputs": [],
   "source": [
    "calculate_LJ(math.pow(2,(1/6)))"
   ]
  },
  {
   "cell_type": "code",
   "execution_count": null,
   "metadata": {},
   "outputs": [],
   "source": [
    "assert 1 == 1"
   ]
  },
  {
   "cell_type": "code",
   "execution_count": null,
   "metadata": {},
   "outputs": [],
   "source": [
    "#If we assert something that is not True (otherwise known as False), we will get an assert error\n",
    "# assert 1 == 0"
   ]
  },
  {
   "cell_type": "code",
   "execution_count": null,
   "metadata": {},
   "outputs": [],
   "source": [
    "assert calculate_LJ(1) == 0\n",
    "assert calculate_LJ(math.pow(2, (1/6))) == -1"
   ]
  },
  {
   "cell_type": "code",
   "execution_count": null,
   "metadata": {},
   "outputs": [],
   "source": [
    "def calculate_distance(coord1, coord2):\n",
    "    \"\"\"\n",
    "    Calculate the distance between two 3D coordinates.\n",
    "    \n",
    "    Parameters\n",
    "    ----------\n",
    "    coord1, coord2 : list\n",
    "        The atomic coordinates [x, y, z]\n",
    "        \n",
    "    Returns\n",
    "    -------\n",
    "    distance: float\n",
    "        The distance between the two atoms\n",
    "    \n",
    "    \"\"\"\n",
    "    sum_square_diff = 0\n",
    "    \n",
    "    for i in range(len(coord1)):\n",
    "        sum_square_diff += (coord1[i] - coord2[i])**2\n",
    "        \n",
    "    distance = math.sqrt(sum_square_diff)\n",
    "    \n",
    "    return distance"
   ]
  },
  {
   "cell_type": "code",
   "execution_count": null,
   "metadata": {},
   "outputs": [],
   "source": [
    "point_1 = [0, 0, 0]\n",
    "point_2 = [1, 0, 0]\n",
    "\n",
    "dist1 = calculate_distance(point_1, point_2)\n",
    "\n",
    "assert dist1 == 1"
   ]
  },
  {
   "cell_type": "code",
   "execution_count": null,
   "metadata": {},
   "outputs": [],
   "source": [
    "point_3 = [0, 0, 0]\n",
    "point_4 = [0, 1, 1]\n",
    "\n",
    "dist2 = calculate_distance(point_3, point_4)\n",
    "assert math.sqrt(2) == dist2"
   ]
  },
  {
   "cell_type": "code",
   "execution_count": null,
   "metadata": {},
   "outputs": [],
   "source": [
    "atomic_coordinates = [[0, 0, 0], [0, math.pow(2, 1/6), 0], [0, 2*math.pow(2, 1/6), 0]]"
   ]
  },
  {
   "cell_type": "code",
   "execution_count": null,
   "metadata": {},
   "outputs": [],
   "source": [
    "def calculate_total_energy(coordinates, cutoff):\n",
    "    \"\"\"\n",
    "    Calculate the total Lennard Jonest energy of a system of particles.\n",
    "    \n",
    "    Parameters\n",
    "    ----------\n",
    "    coordinates : list\n",
    "        Nested list containing particle coordinates.\n",
    "        \n",
    "    Returns\n",
    "    -------\n",
    "    total_energy : float\n",
    "        The total pairwise Lennard jonest energy of the system of particles.\n",
    "    \"\"\"\n",
    "    \n",
    "    total_energy = 0\n",
    "    \n",
    "    num_atoms = len(coordinates)\n",
    "    \n",
    "    for i in range(num_atoms):\n",
    "        for j in range(i+1, num_atoms):\n",
    "            dist_ij = calculate_distance(coordinates[i], coordinates[j])\n",
    "            \n",
    "            if dist_ij < cutoff:\n",
    "                interaction_energy = calculate_LJ(dist_ij)\n",
    "                total_energy += interaction_energy\n",
    "            \n",
    "    return total_energy\n",
    "            "
   ]
  },
  {
   "cell_type": "code",
   "execution_count": null,
   "metadata": {},
   "outputs": [],
   "source": [
    "def read_xyz(filepath):\n",
    "    \"\"\"\n",
    "    Reads coordinates from an xyz file.\n",
    "    \n",
    "    Parameters\n",
    "    ----------\n",
    "    filepath : str\n",
    "       The path to the xyz file to be processed.\n",
    "       \n",
    "    Returns\n",
    "    -------\n",
    "    atomic_coordinates : list\n",
    "        A two dimensional list containing atomic coordinates\n",
    "    \"\"\"\n",
    "    \n",
    "    with open(filepath) as f:\n",
    "        box_length = float(f.readline().split()[0])\n",
    "        num_atoms = float(f.readline())\n",
    "        coordinates = f.readlines()\n",
    "    \n",
    "    atomic_coordinates = []\n",
    "    \n",
    "    for atom in coordinates:\n",
    "        split_atoms = atom.split()\n",
    "        \n",
    "        float_coords = []\n",
    "        \n",
    "        # We split this way to get rid of the atom label.\n",
    "        for coord in split_atoms[1:]:\n",
    "            float_coords.append(float(coord))\n",
    "            \n",
    "        atomic_coordinates.append(float_coords)\n",
    "        \n",
    "    \n",
    "    return atomic_coordinates, box_length"
   ]
  },
  {
   "cell_type": "code",
   "execution_count": null,
   "metadata": {},
   "outputs": [],
   "source": [
    "import os\n"
   ]
  },
  {
   "cell_type": "code",
   "execution_count": null,
   "metadata": {},
   "outputs": [],
   "source": [
    "os.getcwd()\n",
    "#os.chdir('/home/jasminehakim/msse-bootcamp/team1-project/homework/day_2')\n"
   ]
  },
  {
   "cell_type": "code",
   "execution_count": null,
   "metadata": {},
   "outputs": [],
   "source": [
    "file_path = os.path.join('lj_sample_configurations', 'lj_sample_config_periodic1.txt')\n",
    "\n",
    "coordinates, box_length = read_xyz(file_path)"
   ]
  },
  {
   "cell_type": "code",
   "execution_count": null,
   "metadata": {},
   "outputs": [],
   "source": [
    "box_length"
   ]
  },
  {
   "cell_type": "code",
   "execution_count": null,
   "metadata": {},
   "outputs": [],
   "source": [
    "len(coordinates)"
   ]
  },
  {
   "cell_type": "code",
   "execution_count": null,
   "metadata": {},
   "outputs": [],
   "source": [
    "calculate_total_energy(coordinates)"
   ]
  },
  {
   "cell_type": "code",
   "execution_count": null,
   "metadata": {},
   "outputs": [],
   "source": [
    "\n",
    "    "
   ]
  },
  {
   "cell_type": "code",
   "execution_count": null,
   "metadata": {},
   "outputs": [],
   "source": [
    "assert tail_correction_factor == -1.9849E+02"
   ]
  },
  {
   "cell_type": "code",
   "execution_count": null,
   "metadata": {},
   "outputs": [],
   "source": []
  },
  {
   "cell_type": "code",
   "execution_count": null,
   "metadata": {},
   "outputs": [],
   "source": []
  }
 ],
 "metadata": {
  "kernelspec": {
   "display_name": "Python 3",
   "language": "python",
   "name": "python3"
  },
  "language_info": {
   "codemirror_mode": {
    "name": "ipython",
    "version": 3
   },
   "file_extension": ".py",
   "mimetype": "text/x-python",
   "name": "python",
   "nbconvert_exporter": "python",
   "pygments_lexer": "ipython3",
   "version": "3.7.7"
  }
 },
 "nbformat": 4,
 "nbformat_minor": 4
}
