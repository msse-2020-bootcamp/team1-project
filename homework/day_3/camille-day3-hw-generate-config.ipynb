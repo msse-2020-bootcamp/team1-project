{
 "cells": [
  {
   "cell_type": "code",
   "execution_count": null,
   "metadata": {},
   "outputs": [],
   "source": [
    "def generate_config(num_particles, box_length):\n",
    "    \"\"\"\n",
    "    Generates initial system configuration given a number of particles and a box length\n",
    "    \n",
    "    Parameters\n",
    "    ----------\n",
    "    num_particles : int\n",
    "        The desired number of particles in the system.\n",
    "        \n",
    "    box_length : int\n",
    "        The length of the box. \n",
    "        \n",
    "    Returns\n",
    "    -------\n",
    "    coordinates : list\n",
    "        A two dimensional list containing atomic coordinates in the form [x, y, z].\n",
    "            \n",
    "    box_length : int\n",
    "        The length of the box.\n",
    "    \"\"\"\n",
    "    #Initialize coordinates list\n",
    "    coordinates = [] \n",
    "    \n",
    "    for i in range(num_particles):\n",
    "        x_rand = random.uniform(0, box_length)\n",
    "        y_rand = random.uniform(0, box_length)\n",
    "        z_rand = random.uniform(0, box_length)\n",
    "        \n",
    "        coordinate = [x_rand, y_rand, z_rand]\n",
    "        \n",
    "        #Check if coordinate already exists. If so, generate a random coordinate until a new one is found\n",
    "        while coordinate in coordinates:\n",
    "            x_rand = random.uniform(0, box_length)\n",
    "            y_rand = random.uniform(0, box_length)\n",
    "            z_rand = random.uniform(0, box_length)\n",
    "\n",
    "            coordinate = [x_rand, y_rand, z_rand]\n",
    "        \n",
    "        #Add the new coordinate to the list\n",
    "        coordinates.append(coordinate)\n",
    "        \n",
    "    return coordinates, box_length"
   ]
  },
  {
   "cell_type": "code",
   "execution_count": null,
   "metadata": {},
   "outputs": [],
   "source": [
    "import random\n",
    "\n",
    "coordinates, box_length = generate_config(1000, 10)\n",
    "\n",
    "print(len(coordinates))\n",
    "print(box_length)"
   ]
  }
 ],
 "metadata": {
  "kernelspec": {
   "display_name": "Python 3",
   "language": "python",
   "name": "python3"
  },
  "language_info": {
   "codemirror_mode": {
    "name": "ipython",
    "version": 3
   },
   "file_extension": ".py",
   "mimetype": "text/x-python",
   "name": "python",
   "nbconvert_exporter": "python",
   "pygments_lexer": "ipython3",
   "version": "3.7.7"
  }
 },
 "nbformat": 4,
 "nbformat_minor": 4
}
