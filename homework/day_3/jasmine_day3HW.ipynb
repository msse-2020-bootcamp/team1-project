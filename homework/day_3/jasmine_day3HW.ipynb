{
 "cells": [
  {
   "cell_type": "markdown",
   "metadata": {},
   "source": [
    "# Monte Carlo Simulation \n",
    "\n",
    "Today, we will work with the Lennard Jones equation. \n",
    "\n",
    "$$ U(r) = 4 \\epsilon \\left[\\left(\\frac{\\sigma}{r}\\right)^{12} -\\left(\\frac{\\sigma}{r}\\right)^{6} \\right] $$\n",
    "\n",
    "Reduced Units:\n",
    "\n",
    "$$ U^*\\left(r_{ij} \\right) = 4 \\left[\\left(\\frac{1}{r^*_{ij}}\\right)^{12} -\\left(\\frac{1}{r^*_{ij}}\\right)^{6} \\right] $$\n"
   ]
  },
  {
   "cell_type": "code",
   "execution_count": null,
   "metadata": {},
   "outputs": [],
   "source": [
    "import math\n",
    "\n",
    "def calculate_LJ(r_ij): \n",
    "    \"\"\"\n",
    "    The LJ interaction energy between two particles.\n",
    "    \n",
    "    Computes the pairwise Lennard jones interaction energy based on the separation distance in reduced units.\n",
    "    \n",
    "    Parameters\n",
    "    ----------\n",
    "    r_ij : float\n",
    "        The distance between the particles in reduced units.\n",
    "        \n",
    "    Returns\n",
    "    -------\n",
    "    pairwise_energy : float\n",
    "        The pairwise Lennard Jones interaction energy in reduced units.\n",
    "    \n",
    "    \"\"\"\n",
    "    r6_term = math.pow(1/r_ij, 6)\n",
    "    r12_term = math.pow(r6_term, 2)\n",
    "    \n",
    "    pairwise_energy = 4 * (r12_term - r6_term)\n",
    "    \n",
    "    return pairwise_energy\n"
   ]
  },
  {
   "cell_type": "code",
   "execution_count": null,
   "metadata": {},
   "outputs": [],
   "source": [
    "calculate_LJ(1)"
   ]
  },
  {
   "cell_type": "code",
   "execution_count": null,
   "metadata": {},
   "outputs": [],
   "source": [
    "calculate_LJ(math.pow(2,(1/6)))"
   ]
  },
  {
   "cell_type": "code",
   "execution_count": null,
   "metadata": {},
   "outputs": [],
   "source": [
    "assert 1 == 1"
   ]
  },
  {
   "cell_type": "code",
   "execution_count": null,
   "metadata": {},
   "outputs": [],
   "source": [
    "#If we assert something that is not True (otherwise known as False), we will get an assert error\n",
    "# assert 1 == 0"
   ]
  },
  {
   "cell_type": "code",
   "execution_count": null,
   "metadata": {},
   "outputs": [],
   "source": [
    "assert calculate_LJ(1) == 0\n",
    "assert calculate_LJ(math.pow(2, (1/6))) == -1"
   ]
  },
  {
   "cell_type": "code",
   "execution_count": null,
   "metadata": {},
   "outputs": [],
   "source": [
    "def calculate_distance(coord1, coord2, box_length=None):\n",
    "    \"\"\"\n",
    "    Calculate the distance between two 3D coordinates.\n",
    "    \n",
    "    Parameters\n",
    "    ----------\n",
    "    coord1, coord2 : list\n",
    "        The atomic coordinates [x, y, z]\n",
    "        \n",
    "    box_length : float, optional\n",
    "        The box length. This function assumes box is a cube.\n",
    "        \n",
    "    Returns\n",
    "    -------\n",
    "    distance: float\n",
    "        The distance between the two atoms\n",
    "    \n",
    "    \"\"\"\n",
    "    #Do periodic boundary corrections if given a box_length\n",
    "    if box_length is not None:\n",
    "        #Distance = sqrt(sum of square differences of each dimension)\n",
    "        #initialize the sum of square differences to 0\n",
    "        sum_square_diff = 0\n",
    "        \n",
    "        #Iterate through dimensions\n",
    "        for i in range(len(coord1)):\n",
    "            \n",
    "            #Find the raw distance between the two coordinates in this dimension\n",
    "            dim_dist_uncorrected = math.fabs(coord1[i] - coord2[i])\n",
    "            \n",
    "            #Periodic boundary corrections\n",
    "            #If raw distance is less than half the box_length, no corrections are needed\n",
    "            if dim_dist_uncorrected <= box_length / 2:\n",
    "                dim_dist_corrected = dim_dist_uncorrected\n",
    "            \n",
    "            #If raw distance is greater than half the box length and less than one whole box length, correct accordingly\n",
    "            elif (dim_dist_uncorrected > box_length / 2 and dim_dist_uncorrected <= box_length):\n",
    "                dim_dist_corrected = box_length - dim_dist_uncorrected\n",
    "            \n",
    "            #If raw distance is greater than one whole box length, correct accordingly\n",
    "            else:\n",
    "                dim_dist_corrected = dim_dist_uncorrected - box_length * round(dim_dist_uncorrected / box_length)\n",
    "            \n",
    "            #Add the square difference to the total sum\n",
    "            sum_square_diff += (dim_dist_corrected)**2\n",
    "        \n",
    "        #Calculate distance after finding the sum of square differences\n",
    "        distance = math.sqrt(sum_square_diff)\n",
    "        \n",
    "    #Otherwise assume no periodic boundaries    \n",
    "    else:\n",
    "        sum_square_diff = 0\n",
    "    \n",
    "        for i in range(len(coord1)):\n",
    "            sum_square_diff += (coord1[i] - coord2[i])**2\n",
    "\n",
    "        distance = math.sqrt(sum_square_diff)\n",
    "\n",
    "    return distance"
   ]
  },
  {
   "cell_type": "code",
   "execution_count": null,
   "metadata": {},
   "outputs": [],
   "source": [
    "point_1 = [0, 0, 0]\n",
    "point_2 = [1, 0, 0]\n",
    "\n",
    "dist1 = calculate_distance(point_1, point_2)\n",
    "\n",
    "assert dist1 == 1"
   ]
  },
  {
   "cell_type": "code",
   "execution_count": null,
   "metadata": {},
   "outputs": [],
   "source": [
    "point_3 = [0, 0, 0]\n",
    "point_4 = [0, 1, 1]\n",
    "\n",
    "dist2 = calculate_distance(point_3, point_4)\n",
    "assert math.sqrt(2) == dist2"
   ]
  },
  {
   "cell_type": "code",
   "execution_count": null,
   "metadata": {},
   "outputs": [],
   "source": [
    "atomic_coordinates = [[0, 0, 0], [0, math.pow(2, 1/6), 0], [0, 2*math.pow(2, 1/6), 0]]"
   ]
  },
  {
   "cell_type": "code",
   "execution_count": null,
   "metadata": {},
   "outputs": [],
   "source": [
    "def calculate_total_energy(coordinates, box_length, cutoff):\n",
    "    \"\"\"\n",
    "    Calculate the total Lennard Jonest energy of a system of particles.\n",
    "    \n",
    "    Parameters\n",
    "    ----------\n",
    "    coordinates : list\n",
    "        Nested list containing particle coordinates.\n",
    "        \n",
    "    Returns\n",
    "    -------\n",
    "    total_energy : float\n",
    "        The total pairwise Lennard jonest energy of the system of particles.\n",
    "    \"\"\"\n",
    "    \n",
    "    total_energy = 0\n",
    "    \n",
    "    num_atoms = len(coordinates)\n",
    "    \n",
    "    for i in range(num_atoms):\n",
    "        for j in range(i+1, num_atoms):\n",
    "            dist_ij = calculate_distance(coordinates[i], coordinates[j], box_length=box_length)\n",
    "            \n",
    "            if dist_ij < cutoff:\n",
    "                interaction_energy = calculate_LJ(dist_ij)\n",
    "                total_energy += interaction_energy\n",
    "            \n",
    "    return total_energy\n",
    "            "
   ]
  },
  {
   "cell_type": "code",
   "execution_count": null,
   "metadata": {},
   "outputs": [],
   "source": [
    "def calculate_tail_correction(num_particles, box_length, cutoff):\n",
    "    \"\"\"\n",
    "    Calculate the long range tail correction\n",
    "    \"\"\"\n",
    "    \n",
    "    const1 = (8 * math.pi * num_particles ** 2) / (3 * box_length ** 3)\n",
    "    const2 = (1/3) * (1 / cutoff)**9 - (1 / cutoff) **3\n",
    "    \n",
    "    return const1 * const2"
   ]
  },
  {
   "cell_type": "code",
   "execution_count": null,
   "metadata": {},
   "outputs": [],
   "source": [
    "def read_xyz(filepath):\n",
    "    \"\"\"\n",
    "    Reads coordinates from an xyz file.\n",
    "    \n",
    "    Parameters\n",
    "    ----------\n",
    "    filepath : str\n",
    "       The path to the xyz file to be processed.\n",
    "       \n",
    "    Returns\n",
    "    -------\n",
    "    atomic_coordinates : list\n",
    "        A two dimensional list containing atomic coordinates\n",
    "    \"\"\"\n",
    "    \n",
    "    with open(filepath) as f:\n",
    "        box_length = float(f.readline().split()[0])\n",
    "        num_atoms = float(f.readline())\n",
    "        coordinates = f.readlines()\n",
    "    \n",
    "    atomic_coordinates = []\n",
    "    \n",
    "    for atom in coordinates:\n",
    "        split_atoms = atom.split()\n",
    "        \n",
    "        float_coords = []\n",
    "        \n",
    "        # We split this way to get rid of the atom label.\n",
    "        for coord in split_atoms[1:]:\n",
    "            float_coords.append(float(coord))\n",
    "            \n",
    "        atomic_coordinates.append(float_coords)\n",
    "        \n",
    "    \n",
    "    return atomic_coordinates, box_length"
   ]
  },
  {
   "cell_type": "code",
   "execution_count": null,
   "metadata": {},
   "outputs": [],
   "source": [
    "import os"
   ]
  },
  {
   "cell_type": "code",
   "execution_count": null,
   "metadata": {},
   "outputs": [],
   "source": [
    "file_path = os.path.join('lj_sample_configurations', 'lj_sample_config_periodic1.txt')\n",
    "\n",
    "coordinates, box_length = read_xyz(file_path)"
   ]
  },
  {
   "cell_type": "code",
   "execution_count": null,
   "metadata": {},
   "outputs": [],
   "source": [
    "box_length"
   ]
  },
  {
   "cell_type": "code",
   "execution_count": null,
   "metadata": {},
   "outputs": [],
   "source": [
    "len(coordinates)"
   ]
  },
  {
   "cell_type": "code",
   "execution_count": null,
   "metadata": {},
   "outputs": [],
   "source": [
    "calculate_total_energy(coordinates, 10, 3)"
   ]
  },
  {
   "cell_type": "markdown",
   "metadata": {},
   "source": [
    "## Flow of Calculations\n",
    "\n",
    "1. Generate an initial system state `m`.\n",
    "2. Choose an atom with uniform probability from state `m`.\n",
    "3. Propose a new state `n` by translating the particle with a uniform displacement in each direction.\n",
    "4. Calculate the energy change for the particle.\n",
    "5. Accept or reject new state"
   ]
  },
  {
   "cell_type": "markdown",
   "metadata": {},
   "source": [
    "# Exploring the Acceptance Criteria\n",
    "Calculate the probability of accepting a Monte Carlo move for energies ranging from -2 to 2 for T=0.9, T=0.4, and T=1.4\n",
    "What is the effect of temperature on the probability of a MC move being accepted?\n",
    "Create a plot showing your results.  \n",
    "Note that you aren't going to be able to use your function accept_or_reject for this. \n",
    "You will have to take p_acc out of it to make the plot."
   ]
  },
  {
   "cell_type": "code",
   "execution_count": null,
   "metadata": {},
   "outputs": [],
   "source": [
    "def accept_or_reject(delta_e, beta):\n",
    "    \"\"\"\n",
    "    Accept or reject based on change in energy and temperature.\n",
    "    \n",
    "    \"\"\"\n",
    "    \n",
    "    if delta_e <= 0:\n",
    "        accept = True\n",
    "    else:\n",
    "        random_number = random.random()\n",
    "        p_acc = math.exp(-beta*delta_e)\n",
    "        \n",
    "        if random_number < p_acc:\n",
    "            accept = True\n",
    "        else:\n",
    "            accept = False\n",
    "            \n",
    "    return accept"
   ]
  },
  {
   "cell_type": "markdown",
   "metadata": {},
   "source": [
    "$$ P_{acc}(\\Delta U, T) = min[1, e^{-\\Delta U/T}] $$"
   ]
  },
  {
   "cell_type": "code",
   "execution_count": null,
   "metadata": {},
   "outputs": [],
   "source": [
    "import math\n",
    "\n",
    "def accept_probability(delta_e, temperature):\n",
    "    \n",
    "    if delta_e <= 0:\n",
    "        return 1\n",
    "    else:\n",
    "        return math.exp(-delta_e/temperature)\n"
   ]
  },
  {
   "cell_type": "code",
   "execution_count": null,
   "metadata": {},
   "outputs": [],
   "source": [
    "import matplotlib.pyplot as plt\n",
    "\n",
    "temperature_list = [0.4, 0.9, 1.4]\n",
    "fig = plt.figure()\n",
    "plt.xlabel('Energy')\n",
    "plt.ylabel('Acceptance Rate')\n",
    "plt.legend()\n",
    "\n",
    "\n",
    "\n",
    "for temperature in temperature_list:\n",
    "    probabilities =[]\n",
    "  \n",
    "    \n",
    "    delta_e_list = []\n",
    "    for i in range (-20, 20):\n",
    "    \n",
    "        delta_e = i * 0.1\n",
    "        delta_e_list.append(delta_e)\n",
    "        \n",
    "        p_acc = accept_probability(delta_e, temperature)\n",
    "        probabilities.append(p_acc)\n",
    "        \n",
    "    ax = fig.add_subplot(111)\n",
    "    ax.plot(delta_e_list, probabilities)\n",
    "    "
   ]
  },
  {
   "cell_type": "code",
   "execution_count": null,
   "metadata": {},
   "outputs": [],
   "source": [
    "\n",
    "plt.figure()\n",
    "plt.xlabel('Energy')\n",
    "plt.ylabel('Acceptance Rate')\n",
    "plt.plot(data[:,1], label=reduced_temperature[1])\n",
    "plt.plot(data[:,2]), label=reduced_temperature[2])\n",
    "plt.plot(data[:3], label=reduced_temperature[3]) \n",
    "plt.legend()\n",
    "plt.savefig('Acceptance Rate vs. Energy')"
   ]
  },
  {
   "cell_type": "code",
   "execution_count": null,
   "metadata": {},
   "outputs": [],
   "source": [
    "delta_energy = -1\n",
    "beta = 1\n",
    "assert accept_or_reject(delta_energy, beta) is True"
   ]
  },
  {
   "cell_type": "code",
   "execution_count": null,
   "metadata": {},
   "outputs": [],
   "source": [
    "delta_energy = 0\n",
    "beta = 1\n",
    "assert accept_or_reject(delta_energy, beta) is True"
   ]
  },
  {
   "cell_type": "code",
   "execution_count": null,
   "metadata": {},
   "outputs": [],
   "source": [
    "import random\n",
    "random.seed(0)\n",
    "random.random()"
   ]
  },
  {
   "cell_type": "code",
   "execution_count": null,
   "metadata": {},
   "outputs": [],
   "source": [
    "delta_energy = 1\n",
    "beta = 1\n",
    "p_acc = math.exp(-1)\n",
    "print(p_acc)"
   ]
  },
  {
   "cell_type": "code",
   "execution_count": null,
   "metadata": {},
   "outputs": [],
   "source": [
    "random.seed(0)\n",
    "delta_e = 1\n",
    "beta = 1\n",
    "#assert accept_or_reject(delta_e, beta) is False"
   ]
  },
  {
   "cell_type": "code",
   "execution_count": null,
   "metadata": {},
   "outputs": [],
   "source": [
    "#Unset random seed\n",
    "random.seed()"
   ]
  },
  {
   "cell_type": "code",
   "execution_count": null,
   "metadata": {},
   "outputs": [],
   "source": [
    "def calculate_pair_energy(coordinates, i_particle, box_length, cutoff):\n",
    "    \"\"\"\n",
    "    Calculate the interaction energy of a particle with it senvironment (all other particles in the system)\n",
    "    \n",
    "    Parameters\n",
    "    ----------\n",
    "    coordinates: list\n",
    "        The coordinates for all the particles in the system.\n",
    "    \n",
    "    i_particle: int\n",
    "        The particle index for which to calculate the energy.\n",
    "        \n",
    "    box_length : float\n",
    "        The length of the simulation box.\n",
    "        \n",
    "    cutoff : float\n",
    "        The simulation cutoff. Beyond this distance, interactions are not calculated\n",
    "        \n",
    "    Returns\n",
    "    -------\n",
    "    e_total : float\n",
    "        The pairwise interaction energy of the i-th particle with all other particles in the system.\n",
    "    \n",
    "    \"\"\"\n",
    "    \n",
    "    e_total = 0\n",
    "    \n",
    "    num_atoms = len(coordinates)\n",
    "    \n",
    "    for j in range(num_atoms):\n",
    "        if j != i_particle:\n",
    "            dist_ij = calculate_distance(coordinates[i_particle], coordinates[j], box_length=box_length)\n",
    "\n",
    "            if dist_ij < cutoff:\n",
    "                interaction_energy = calculate_LJ(dist_ij)\n",
    "                e_total += interaction_energy\n",
    "    \n",
    "    return e_total"
   ]
  },
  {
   "cell_type": "code",
   "execution_count": null,
   "metadata": {},
   "outputs": [],
   "source": [
    "coordinates = [[0, 0, 0] , [0, 0, 2**(1/6)], [0, 0, 2*(2**(1/6))]]\n",
    "\n",
    "assert calculate_pair_energy(coordinates, 1, 10, 3) == -2\n",
    "\n",
    "assert calculate_pair_energy(coordinates, 0, 10, 3) == calculate_pair_energy(coordinates, 2, 10, 3)"
   ]
  },
  {
   "cell_type": "markdown",
   "metadata": {},
   "source": [
    "# Simulation Loop"
   ]
  },
  {
   "cell_type": "code",
   "execution_count": null,
   "metadata": {},
   "outputs": [],
   "source": [
    "\n",
    "\n"
   ]
  },
  {
   "cell_type": "code",
   "execution_count": null,
   "metadata": {},
   "outputs": [],
   "source": []
  },
  {
   "cell_type": "code",
   "execution_count": null,
   "metadata": {},
   "outputs": [],
   "source": [
    "import os\n",
    "\n",
    "#Set simulation parameters\n",
    "reduced_temperature = 0.9\n",
    "num_steps = 50000\n",
    "max_displacement = 0.1\n",
    "cutoff = 3\n",
    "\n",
    "# Reporting information\n",
    "freq = 1000\n",
    "steps = []\n",
    "energies = []\n",
    "all_coordinates = []\n",
    "\n",
    "#Calculated quantities\n",
    "beta = 1/reduced_temperature\n",
    "\n",
    "#Read initial coordinates\n",
    "file_path = os.path.join('lj_sample_configurations', 'lj_sample_config_periodic1.txt')\n",
    "coordinates, box_length = read_xyz(file_path)\n",
    "num_particles = len(coordinates)\n",
    "\n",
    "#Calculated based on simulation inputs\n",
    "total_energy = calculate_total_energy(coordinates, box_length, cutoff)\n",
    "total_energy += calculate_tail_correction(num_particles, box_length, cutoff)\n",
    "\n",
    "for step in range(num_steps):\n",
    "        \n",
    "        # 1. Randomly pick one of num_particles particles\n",
    "        random_particle = random.randrange(num_particles)\n",
    "        \n",
    "        # 2. Calculate the interaction energy of the selected particle with the system. Store this value.\n",
    "        current_energy = calculate_pair_energy(coordinates, random_particle, box_length, cutoff)\n",
    "        \n",
    "        # 3. Generate a random x, y, z displacement range (-max_displacement, max_displacement)\n",
    "        x_rand = random.uniform(-max_displacement, max_displacement)\n",
    "        y_rand = random.uniform(-max_displacement, max_displacement)\n",
    "        z_rand = random.uniform(-max_displacement, max_displacement)\n",
    "        \n",
    "        # 4. Modify the coordinate of selected particle by generated displacements.\n",
    "        coordinates[random_particle][0] += x_rand\n",
    "        coordinates[random_particle][1] += y_rand\n",
    "        coordinates[random_particle][2] += z_rand\n",
    "        \n",
    "        # 5. Calculate the new interaction energy of moved particle, store this value.\n",
    "        proposed_energy = calculate_pair_energy(coordinates, random_particle, box_length, cutoff)\n",
    "        \n",
    "        # 6. Calculate energy change and decide if we accept the move.\n",
    "        delta_energy = proposed_energy - current_energy\n",
    "        \n",
    "        accept = accept_or_reject(delta_energy, beta)\n",
    "        \n",
    "        # 7. If accept, keep movement, If not revert to old position\n",
    "        if accept:\n",
    "            total_energy += delta_energy\n",
    "        else:\n",
    "            #Move is not accepted, roll back coordinates\n",
    "            coordinates[random_particle][0] -= x_rand\n",
    "            coordinates[random_particle][1] -= y_rand\n",
    "            coordinates[random_particle][2] -= z_rand\n",
    "        \n",
    "        # 8. Print the energy at certain intervals.\n",
    "        if step % freq == 0:\n",
    "            print(step, total_energy/num_particles)\n",
    "            steps.append(step)\n",
    "            energies.append(total_energy/num_particles)\n",
    "            all_coordinates.append(coordinates)"
   ]
  },
  {
   "cell_type": "code",
   "execution_count": null,
   "metadata": {},
   "outputs": [],
   "source": [
    "import matplotlib.pyplot as plt\n",
    "\n",
    "%matplotlib notebook\n",
    "\n",
    "fig = plt.figure()\n",
    "ax = fig.add_subplot(111)\n",
    "ax.plot(steps, energies)"
   ]
  },
  {
   "cell_type": "code",
   "execution_count": null,
   "metadata": {},
   "outputs": [],
   "source": []
  }
 ],
 "metadata": {
  "kernelspec": {
   "display_name": "Python 3",
   "language": "python",
   "name": "python3"
  },
  "language_info": {
   "codemirror_mode": {
    "name": "ipython",
    "version": 3
   },
   "file_extension": ".py",
   "mimetype": "text/x-python",
   "name": "python",
   "nbconvert_exporter": "python",
   "pygments_lexer": "ipython3",
   "version": "3.7.7"
  }
 },
 "nbformat": 4,
 "nbformat_minor": 4
}
