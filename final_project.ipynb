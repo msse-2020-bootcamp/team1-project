{
 "cells": [
  {
   "cell_type": "code",
   "execution_count": null,
   "metadata": {},
   "outputs": [],
   "source": [
    "import numpy as np\n",
    "import matplotlib.pyplot as plt\n",
    "%matplotlib notebook"
   ]
  },
  {
   "cell_type": "code",
   "execution_count": null,
   "metadata": {},
   "outputs": [],
   "source": [
    "# time in seconds\n",
    "\n",
    "python_5k = [11.070, 10.690, 10.640]\n",
    "python_50k = [97.767, 98.589, 99.655 ]\n",
    "python_500k = [971.244, 982.197, 956.355]\n",
    "\n",
    "np_5k = [3.269, 3.240, 3.262]\n",
    "np_50k = [28.197, 28.143, 28.523]\n",
    "np_500k = [279.965, 280.980, 279.534]\n",
    "\n",
    "cpp_5k = [0.518, 0.515, 0.523]\n",
    "cpp_50k = [4.956, 4.978, 5.022]\n",
    "cpp_500k = [49.293, 49.294, 49.166]"
   ]
  }
 ],
 "metadata": {
  "kernelspec": {
   "display_name": "Python 3",
   "language": "python",
   "name": "python3"
  },
  "language_info": {
   "codemirror_mode": {
    "name": "ipython",
    "version": 3
   },
   "file_extension": ".py",
   "mimetype": "text/x-python",
   "name": "python",
   "nbconvert_exporter": "python",
   "pygments_lexer": "ipython3",
   "version": "3.7.7"
  }
 },
 "nbformat": 4,
 "nbformat_minor": 4
}
