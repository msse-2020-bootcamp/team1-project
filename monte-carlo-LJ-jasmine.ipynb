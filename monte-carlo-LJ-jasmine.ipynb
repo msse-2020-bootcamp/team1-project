{
 "cells": [
  {
   "cell_type": "markdown",
   "metadata": {},
   "source": [
    "## Monte Carlo Simulation\n",
    "\n",
    "Today we will work with the Lennard-Jones equation (eqn 1)\n",
    "\n",
    "Reduced Units: (eqn 2)"
   ]
  },
  {
   "cell_type": "code",
   "execution_count": null,
   "metadata": {},
   "outputs": [],
   "source": [
    "import math\n",
    "\n",
    "def calculate_LJ(r_ij):\n",
    "    \n",
    "    # documenting the function in 3 pairs of double quotes to put string to document code\n",
    "    #Document what fxn does and its parameters #Dashes under parameters must be same length as the word parameters\n",
    "    # for returns, we also want the dashes to be the same length as word returns\n",
    "    \"\"\"\n",
    "    The calculate_LJ function is The LJ interaction energy between two particles.\n",
    "    \n",
    "    It computes the pairwise Lennard Jones interaction energy based on the separation distance in reduced units.\n",
    "    \n",
    "    Parameters\n",
    "    ----------\n",
    "    r_ij : float\n",
    "        r_ij is The distance between the particles in reduced units\n",
    "    \n",
    "    Returns\n",
    "    -------\n",
    "    pairwise_energy : float\n",
    "        pairwise_energy is the pairwise Lennard Jones interaction energy in reduced units\n",
    "    \"\"\"\n",
    "    r6_term = math.pow(1/r_ij, 6) #Raise to 6th power\n",
    "    r12_term = math.pow(r6_term, 2) #raised to 12th power\n",
    "    \n",
    "    pairwise_energy = 4 * (r12_term - r6_term)\n",
    "    \n",
    "\n",
    "    return pairwise_energy\n",
    "\n",
    "#Good to test the behavior of our eqn to test fxn that we have written\n",
    "# ie do the output values of this eqn make sense?\n",
    "\n",
    "#Go to slide 5/6 and notice graph:\n",
    "    #a When r=1, the fxn should be equal to zero (makes sense mathsince 1-1=0)\n",
    "    #b r=-1 at the minimum (from graph and form of eqn)\n",
    "    #We want to see if our fxn evaluates to these values to see if we wrote the function the correct way"
   ]
  },
  {
   "cell_type": "code",
   "execution_count": null,
   "metadata": {},
   "outputs": [],
   "source": [
    "calculate_LJ(1)"
   ]
  },
  {
   "cell_type": "code",
   "execution_count": null,
   "metadata": {},
   "outputs": [],
   "source": [
    "#Yep we got zero as expected"
   ]
  },
  {
   "cell_type": "code",
   "execution_count": null,
   "metadata": {},
   "outputs": [],
   "source": [
    "calculate_LJ(math.pow(2, (1/6)))"
   ]
  },
  {
   "cell_type": "code",
   "execution_count": null,
   "metadata": {},
   "outputs": [],
   "source": [
    "#Yay, we got -1 as expected"
   ]
  },
  {
   "cell_type": "code",
   "execution_count": null,
   "metadata": {},
   "outputs": [],
   "source": [
    "assert 1 == 1 #This is true  #Assert calc value is equal to asserted value"
   ]
  },
  {
   "cell_type": "code",
   "execution_count": null,
   "metadata": {},
   "outputs": [],
   "source": [
    "# CLASS: If we assert something that is not True (otherwise known as False), we will get an assert error\n",
    "# assert 1 == 0"
   ]
  },
  {
   "cell_type": "code",
   "execution_count": null,
   "metadata": {},
   "outputs": [],
   "source": [
    "#So we can verify function by plugging in values manually or using assert to check if statements are true"
   ]
  },
  {
   "cell_type": "code",
   "execution_count": null,
   "metadata": {},
   "outputs": [],
   "source": [
    "assert calculate_LJ(1) == 0\n",
    "assert calculate_LJ(math.pow(2, (1/6))) == -1  \n",
    "#Note assert statements specific to python\n",
    "#But manually plugging in can be used on any language"
   ]
  },
  {
   "cell_type": "code",
   "execution_count": null,
   "metadata": {},
   "outputs": [],
   "source": [
    "def calculate_distance(coord1, coord2):\n",
    "    \"\"\"\n",
    "    calculate_distance Calculates the distance between two 3D coordinates\n",
    "    \n",
    "    Parameters\n",
    "    ----------\n",
    "    coord1, coord2 : list\n",
    "        These are the atomic coordinates [x, y, z]\n",
    "    \n",
    "    Returns\n",
    "    -------\n",
    "    distance : float\n",
    "        This is the distance between the two atoms\n",
    "    \n",
    "    \"\"\"\n",
    "    distance = 0 \n",
    "    #Take dist formula and translate it into a python function.  Use a for loop since have x,y,z\n",
    "    for i in range(3):\n",
    "            dim_dist = (coord1[i] - coord2[i]) **2  #Remember to square the value\n",
    "            distance += dim_dist  #keep a running sum of our distance\n",
    "            \n",
    "    distance = math.sqrt(distance)\n",
    "    return distance"
   ]
  },
  {
   "cell_type": "code",
   "execution_count": null,
   "metadata": {},
   "outputs": [],
   "source": [
    "point_1 = [0, 0, 0]\n",
    "point_2 = [1, 0, 0]\n",
    "\n",
    "dist1 = calculate_distance(point_1, point_2)\n",
    "assert dist1 == 1\n",
    "\n",
    "point_3 = [0, 0, 0]\n",
    "point_4 = [0, 1, 1]\n",
    "\n",
    "dist2 = calculate_distance(point_3, point_4)\n",
    "assert math.sqrt(2) == dist2\n",
    "\n"
   ]
  },
  {
   "cell_type": "code",
   "execution_count": null,
   "metadata": {},
   "outputs": [],
   "source": [
    "# We want to calculate the total energy of a system of particles\n",
    "#First consider partic1, then calc dist btwn partic 1, partic2 -> calculate LJ energy\n",
    "#Then calculate all of the PE for the particles, then sum of those PE is the total PE for the system\n",
    "#We now want a function that does this\n",
    "\n",
    "#Writing a function to calculate total systemwise energy for a system of particles"
   ]
  },
  {
   "cell_type": "code",
   "execution_count": null,
   "metadata": {},
   "outputs": [],
   "source": [
    "coordinates = [[0, 0, 0], [0, math.pow(2, 1/6), 0], [0, 2*math.pow(2, 1/6), 0]]  \n",
    "#Three equally distanced particles\n",
    "#Want to write a fxn that calc their interaction energy"
   ]
  },
  {
   "cell_type": "code",
   "execution_count": null,
   "metadata": {},
   "outputs": [],
   "source": [
    "def calculate_total_energy(coordinates, cutoff):  #adding energy cutoff to fxn\n",
    "    '''\n",
    "    This function calculates the total Lennard Jones energy of a system of particles.\n",
    "    \n",
    "    Parameters\n",
    "    ----------\n",
    "    atomic_coordinates : list\n",
    "        Nested list containing particle coordinates\n",
    "        \n",
    "    Return\n",
    "    ------\n",
    "    total_energy : float\n",
    "        The total pairwise Lennard Jones energy of the system of particles.\n",
    "    \n",
    "    '''\n",
    "    #Want the interaction energy of each possible pairing of the three particles, but don't want to repear pairings\n",
    "        #Eg want particle 1 and 2 but don't repair as particle 2 and 1\n",
    "    #So use a nested for loop\n",
    "    \n",
    "    total_energy = 0\n",
    "    \n",
    "    num_atoms = len(coordinates) #Loop over all atoms, get number of atoms\n",
    "    \n",
    "    for i in range(num_atoms):\n",
    "        for j in range(i+1, num_atoms):\n",
    "            \n",
    "           # print(f'Comparing atom number {i} with atom number {j}')\n",
    "            \n",
    "            dist_ij = calculate_distance(coordinates[i], coordinates[j])\n",
    "            \n",
    "            if dist_ij < cutoff:  #One of the changes for the hw incorporating the energy cutoff\n",
    "            interaction_energy = calculate_LJ(dist_ij)\n",
    "            total_energy += interaction_energy\n",
    "        \n",
    "    return total_energy"
   ]
  },
  {
   "cell_type": "code",
   "execution_count": null,
   "metadata": {},
   "outputs": [],
   "source": [
    "calculate_total_energy(coordinates)"
   ]
  },
  {
   "cell_type": "code",
   "execution_count": null,
   "metadata": {},
   "outputs": [],
   "source": [
    "def read_xyz(filepath):\n",
    "    \"\"\"\n",
    "    Reads coordinates from an xyz file.\n",
    "    \n",
    "    Parameters\n",
    "    ----------\n",
    "    filepath : str\n",
    "       The path to the xyz file to be processed.\n",
    "       \n",
    "    Returns\n",
    "    -------\n",
    "    atomic_coordinates : list\n",
    "        A two dimensional list containing atomic coordinates\n",
    "    \"\"\"\n",
    "    \n",
    "    with open(filepath) as f:\n",
    "        box_length = float(f.readline().split()[0])\n",
    "        num_atoms = float(f.readline())\n",
    "        coordinates = f.readlines()\n",
    "    \n",
    "    atomic_coordinates = []\n",
    "    \n",
    "    for atom in coordinates:\n",
    "        split_atoms = atom.split()\n",
    "        \n",
    "        float_coords = []\n",
    "        \n",
    "        # We split this way to get rid of the atom label.\n",
    "        for coord in split_atoms[1:]:\n",
    "            float_coords.append(float(coord))\n",
    "            \n",
    "        atomic_coordinates.append(float_coords)\n",
    "        \n",
    "    \n",
    "    return atomic_coordinates, box_length\n"
   ]
  },
  {
   "cell_type": "code",
   "execution_count": null,
   "metadata": {},
   "outputs": [],
   "source": [
    "import os\n",
    "\n",
    "# Tell computer where file path is\n",
    "file_path = os.path.join('lj_sample_configurations', 'lj_sample_config_periodic1.txt')\n",
    "\n",
    "coordinates, box_length = read_xyz(file_path)"
   ]
  },
  {
   "cell_type": "code",
   "execution_count": null,
   "metadata": {},
   "outputs": [],
   "source": [
    "box_length #box length is 10 as expected"
   ]
  },
  {
   "cell_type": "code",
   "execution_count": null,
   "metadata": {},
   "outputs": [],
   "source": [
    "len(coordinates) #number of coordinates on list is 800 as expected"
   ]
  },
  {
   "cell_type": "code",
   "execution_count": null,
   "metadata": {},
   "outputs": [],
   "source": [
    "# We want to see if our calc total energy gives the same value NIST does\n",
    "calculate_total_energy(coordinates)"
   ]
  },
  {
   "cell_type": "code",
   "execution_count": null,
   "metadata": {},
   "outputs": [],
   "source": [
    "#This energy we calculated is not the same as NIST values"
   ]
  },
  {
   "cell_type": "code",
   "execution_count": null,
   "metadata": {},
   "outputs": [],
   "source": []
  },
  {
   "cell_type": "code",
   "execution_count": null,
   "metadata": {},
   "outputs": [],
   "source": []
  }
 ],
 "metadata": {
  "kernelspec": {
   "display_name": "Python 3",
   "language": "python",
   "name": "python3"
  },
  "language_info": {
   "codemirror_mode": {
    "name": "ipython",
    "version": 3
   },
   "file_extension": ".py",
   "mimetype": "text/x-python",
   "name": "python",
   "nbconvert_exporter": "python",
   "pygments_lexer": "ipython3",
   "version": "3.7.7"
  }
 },
 "nbformat": 4,
 "nbformat_minor": 4
}
